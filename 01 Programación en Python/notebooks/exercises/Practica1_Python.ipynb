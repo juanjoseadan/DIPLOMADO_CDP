{
  "nbformat": 4,
  "nbformat_minor": 0,
  "metadata": {
    "colab": {
      "name": "Ejercicios.ipynb",
      "provenance": [],
      "collapsed_sections": [],
      "include_colab_link": true
    },
    "kernelspec": {
      "name": "python3",
      "display_name": "Python 3.7.3 64-bit",
      "metadata": {
        "interpreter": {
          "hash": "20bf69066c0dd38d51965b69d5e1b6e387082e3198ba56e97997ac55f4e50ad0"
        }
      }
    },
    "language_info": {
      "codemirror_mode": {
        "name": "ipython",
        "version": 3
      },
      "file_extension": ".py",
      "mimetype": "text/x-python",
      "name": "python",
      "nbconvert_exporter": "python",
      "pygments_lexer": "ipython3",
      "version": "3.7.3-final"
    }
  },
  "cells": [
    {
      "cell_type": "markdown",
      "metadata": {
        "id": "view-in-github",
        "colab_type": "text"
      },
      "source": [
        "<a href=\"https://colab.research.google.com/github/jhermosillo/DIPLOMADO_CDP/blob/main/01%20Programaci%C3%B3n%20en%20Python/notebooks/exercises/Practica1_Python.ipynb\" target=\"_parent\"><img src=\"https://colab.research.google.com/assets/colab-badge.svg\" alt=\"Open In Colab\"/></a>"
      ]
    },
    {
      "cell_type": "markdown",
      "metadata": {
        "id": "4zMzLuXxBDdY"
      },
      "source": [
        "# Ejercicios bases de Python"
      ]
    },
    {
      "cell_type": "markdown",
      "metadata": {
        "id": "HAY8IBC4dM62"
      },
      "source": [
        "## Estructuras, asignación y funciones"
      ]
    },
    {
      "cell_type": "markdown",
      "metadata": {
        "id": "5OKzkyU6_1kB"
      },
      "source": [
        "### 1. Creando una agenda \n",
        "\n",
        "Utiliza los conceptos básicos de python para crear una agenda telefónica. Deberás completar las funciones crear_agenda, agregar_contacto, eliminimar_contacto y buscar_contacto que se encuentran en las siguientes celdas.\n",
        "\n",
        "* ```crear_agenda()```, esta función devuelve una nueva agenda vacía, elige el tipo de dato que creas adecuado para este proposito.\n",
        "* ```agregar_contacto(agenda, nombre, numero)```, esta función debe permitir agregar un nuevo contacto a la agenda, además si un contacto ya existe con el nombre recibido entonces debes almacenar su nuevo numero sin eliminar el anterior.\n",
        "* ```buscar_contacto(agenda, nombre)```, esta función debe de regresar el o los números registados de un contacto, si el contacto no existe entonces imprimer el mensaje \"Contacto no encontrado en la agenda\".\n",
        "* ```eliminar_contacto(agenda, nombre)```, esta función permite eliminar a un contacto de la agenda, si el contacto no existe entonces imprimer el mensaje \"Contacto no encontrado en la agenda\"."
      ]
    },
    {
      "cell_type": "code",
      "metadata": {
        "id": "EJAb9gnbzhA4"
      },
      "source": [
        "def crear_agenda():\n",
        "    return {}"
      ],
      "execution_count": 2180,
      "outputs": []
    },
    {
      "cell_type": "code",
      "metadata": {
        "id": "QjsW0Y_M_x4j"
      },
      "source": [
        "def agregar_contacto(agenda, nombre, numero):\n",
        "\n",
        "    ## Make sure we have an agenda to fill. In this way we avoid exceptions.\n",
        "    if not agenda:\n",
        "        agenda = crear_agenda()\n",
        "\n",
        "    ## Return the current agenta to avoid adding empty name/number.\n",
        "    if not nombre or not numero:\n",
        "        return agenda\n",
        "\n",
        "    if nombre not in agenda:\n",
        "        agenda[nombre] = [numero]\n",
        "    elif numero not in agenda[nombre]:\n",
        "        agenda[nombre].append(numero)\n",
        "\n",
        "    return agenda"
      ],
      "execution_count": 2181,
      "outputs": []
    },
    {
      "cell_type": "code",
      "metadata": {
        "id": "CkJpO_BtzhA5"
      },
      "source": [
        "agenda = crear_agenda()\n",
        "\n",
        "\n",
        "# First test: agenda with one contact.\n",
        "agenda = agregar_contacto(agenda, \"Javier\", \"1234567890\")\n",
        "## Try to add the same number (it shouldn't add duplicate records to a single person)\n",
        "agenda = agregar_contacto(agenda, \"Javier\", \"1234567890\")\n",
        "agenda = agregar_contacto(agenda, \"Javier\", \"77712345\")\n",
        "\n",
        "# Second test: agenda with a second contact\n",
        "agenda = agregar_contacto(agenda, \"Juan\", \"1234567890\")\n",
        "\n",
        "\n",
        "\n",
        "print('Tu agenda es:', agenda)"
      ],
      "execution_count": 2182,
      "outputs": [
        {
          "output_type": "stream",
          "name": "stdout",
          "text": [
            "Tu agenda es: {'Javier': ['1234567890', '77712345'], 'Juan': ['1234567890']}\n"
          ]
        }
      ]
    },
    {
      "cell_type": "code",
      "metadata": {
        "id": "-xhGm-CXzhA7"
      },
      "source": [
        "def buscar_contacto(agenda, nombre):\n",
        "\n",
        "    # There is no sense on searching something that does not exist\n",
        "    if not agenda or not nombre:\n",
        "        print('Contacto no encontrado en la agenda')\n",
        "        return\n",
        "\n",
        "    if agenda[nombre]:\n",
        "        return agenda[nombre]\n",
        "    \n",
        "    return"
      ],
      "execution_count": 2183,
      "outputs": []
    },
    {
      "cell_type": "code",
      "metadata": {
        "id": "FzG19KdxzhA7"
      },
      "source": [
        "print('First search', buscar_contacto(agenda, \"Javier\"))\n",
        "agenda = agregar_contacto(agenda, \"Javier\", \"0987654321\")\n",
        "print('Second search', buscar_contacto(agenda, \"Javier\"))"
      ],
      "execution_count": 2184,
      "outputs": [
        {
          "output_type": "stream",
          "name": "stdout",
          "text": [
            "First search ['1234567890', '77712345']\nSecond search ['1234567890', '77712345', '0987654321']\n"
          ]
        }
      ]
    },
    {
      "cell_type": "code",
      "metadata": {
        "id": "9c7BfxoZzhA7"
      },
      "source": [
        "def eliminar_contacto(agenda, nombre):\n",
        "    if not agenda or not agenda[nombre]:\n",
        "        print('Contacto no encontrado en la agenda')\n",
        "        return\n",
        "\n",
        "    del agenda[nombre]\n",
        "\n",
        "    return agenda"
      ],
      "execution_count": 2185,
      "outputs": []
    },
    {
      "cell_type": "code",
      "metadata": {
        "id": "RkNtzllbBirX"
      },
      "source": [
        "agenda = eliminar_contacto(agenda, \"Javier\")\n",
        "print('Agenda after deleting Javier', agenda)"
      ],
      "execution_count": 2186,
      "outputs": [
        {
          "output_type": "stream",
          "name": "stdout",
          "text": [
            "Agenda after deleting Javier {'Juan': ['1234567890']}\n"
          ]
        }
      ]
    },
    {
      "cell_type": "markdown",
      "metadata": {
        "id": "3nzzkH6EA88D"
      },
      "source": [
        "# Ejercicios estadística"
      ]
    },
    {
      "cell_type": "markdown",
      "metadata": {
        "id": "e5g5CAaOc01h"
      },
      "source": [
        "### Función suma\n",
        "\n",
        "$$\n",
        "    suma(a) = \\sum_{i=1}^{n}a_i\n",
        "$$"
      ]
    },
    {
      "cell_type": "code",
      "metadata": {
        "id": "RxWbpZ42c07g"
      },
      "source": [
        "def suma(x):\n",
        "    suma = 0\n",
        "\n",
        "    for element in x:\n",
        "        suma += element\n",
        "\n",
        "    return suma"
      ],
      "execution_count": 2187,
      "outputs": []
    },
    {
      "cell_type": "code",
      "metadata": {
        "id": "mdiLISG-zhA-"
      },
      "source": [
        "result = suma([1, 2, 3, 4, 5])\n",
        "print('Result from function suma() = ', result)\n",
        "\n",
        "assert result == 15"
      ],
      "execution_count": 2188,
      "outputs": [
        {
          "output_type": "stream",
          "name": "stdout",
          "text": [
            "Result from function suma() =  15\n"
          ]
        }
      ]
    },
    {
      "cell_type": "markdown",
      "metadata": {
        "id": "Hc30xEPMc1QC"
      },
      "source": [
        "### Función promedio.\n",
        "\n",
        "$$\n",
        "\t\\bar{x} = \\dfrac{\\sum_{i=1}^{n}x_i}{n}\n",
        "$$"
      ]
    },
    {
      "cell_type": "code",
      "metadata": {
        "id": "2KyU6PyCc1VM"
      },
      "source": [
        "def promedio(x):\n",
        "    promedio = suma(x) / len(x)\n",
        "    return promedio"
      ],
      "execution_count": 2189,
      "outputs": []
    },
    {
      "cell_type": "code",
      "metadata": {
        "id": "7GM2YpXVzhBA"
      },
      "source": [
        "result = promedio([1, 2, 3, 4, 5])\n",
        "print('Result from function promedio() = ', result)\n",
        "assert result == 3, \"Error en promedio\""
      ],
      "execution_count": 2190,
      "outputs": [
        {
          "output_type": "stream",
          "name": "stdout",
          "text": [
            "Result from function promedio() =  3.0\n"
          ]
        }
      ]
    },
    {
      "cell_type": "markdown",
      "metadata": {
        "id": "ImMoE5w4c1of"
      },
      "source": [
        "### Función varianza.\n",
        "$$\n",
        "\\sigma^2 = \\frac{1}{n} \\sum_{i=1}^{n}(x_i - \\bar{x})^2\n",
        "$$"
      ]
    },
    {
      "cell_type": "code",
      "metadata": {
        "id": "h0w2PHhLc1tG"
      },
      "source": [
        "def var(x):\n",
        "    var = 0\n",
        "    avg = promedio(x)\n",
        "\n",
        "    for element in x:\n",
        "        var += (element - avg) ** 2\n",
        "\n",
        "    return var / len(x)"
      ],
      "execution_count": 2191,
      "outputs": []
    },
    {
      "cell_type": "code",
      "metadata": {
        "id": "puEjtv4OzhBA"
      },
      "source": [
        "result = var([1, 2, 3, 4, 5])\n",
        "print('Result from function var() = ', result)\n",
        "assert result == 2, \"Error en var\""
      ],
      "execution_count": 2192,
      "outputs": [
        {
          "output_type": "stream",
          "name": "stdout",
          "text": [
            "Result from function var() =  2.0\n"
          ]
        }
      ]
    },
    {
      "cell_type": "markdown",
      "metadata": {
        "id": "fxxJeFhbA9Cq"
      },
      "source": [
        "# Ejercicios álgebra lineal"
      ]
    },
    {
      "cell_type": "markdown",
      "metadata": {
        "id": "6dXp-owNeqP9"
      },
      "source": [
        "## Vectores con listas"
      ]
    },
    {
      "cell_type": "markdown",
      "metadata": {
        "id": "9Du0_NsNc81H"
      },
      "source": [
        "### Ones"
      ]
    },
    {
      "cell_type": "markdown",
      "metadata": {
        "id": "DKp9wDLPEZdz"
      },
      "source": [
        "Completa la función ones1D que recibe como parámetros un entero $n$ y retorna una lista de tamaño $n$ con todos sus elementos con el valor $1$.\n",
        "\n",
        "Ejemplo:\n",
        "\n",
        "```\n",
        ">>> ones(5)\n",
        "[1, 1, 1, 1, 1]\n",
        "```\n",
        "\n"
      ]
    },
    {
      "cell_type": "code",
      "metadata": {
        "id": "l4j5ka46EulY"
      },
      "source": [
        "def ones_1d(n):\n",
        "    ones_list = [1]*n\n",
        "    return ones_list  "
      ],
      "execution_count": 2193,
      "outputs": []
    },
    {
      "cell_type": "markdown",
      "metadata": {
        "id": "TBYV7LYqdSJo"
      },
      "source": [
        "Ejecuta la siguiente celda para comprobar la función ones1D:"
      ]
    },
    {
      "cell_type": "code",
      "metadata": {
        "id": "QUlEotVIdRno"
      },
      "source": [
        "assert len(ones_1d(10)) == 10 and  ones_1d(3).count(1) == 3 and sum(ones_1d(5)) == 5  , \"error en la funcion ones_1d\"\n",
        "print(\"La funcion es correcta\")"
      ],
      "execution_count": 2194,
      "outputs": [
        {
          "output_type": "stream",
          "name": "stdout",
          "text": [
            "La funcion es correcta\n"
          ]
        }
      ]
    },
    {
      "cell_type": "markdown",
      "metadata": {
        "id": "b8SaUCdYzhBC"
      },
      "source": [
        "### Ones 2D"
      ]
    },
    {
      "cell_type": "markdown",
      "metadata": {
        "id": "lxOMWQXXEZp3"
      },
      "source": [
        "Completa la función ones_2d que recibe como parámetros un entero $n$ y un entero $m$ y retorna una lista con $n$ sub-listas cada una de tamaño $m$ con todos sus elementos con el valor 1. En otras palabras, una matriz $n \\times m$ con sus elementos iniciados con valor $1$.\n",
        "\n",
        "Ejemplo:\n",
        "\n",
        "\n",
        "\n",
        "```\n",
        ">>> ones_2d(2, 3)\n",
        "[[1, 1, 1], [1, 1, 1]]\n",
        "```\n",
        "\n"
      ]
    },
    {
      "cell_type": "code",
      "metadata": {
        "id": "-xfFmttxFRCw"
      },
      "source": [
        "def ones_2d(m, n):\n",
        "    ones_ll = [[1]*n]*m\n",
        "    return ones_ll"
      ],
      "execution_count": 2195,
      "outputs": []
    },
    {
      "cell_type": "markdown",
      "metadata": {
        "id": "yugjWXI9eI4P"
      },
      "source": [
        "Ejecuta la siguiente celda para comprobar la función ones2D:"
      ]
    },
    {
      "cell_type": "code",
      "metadata": {
        "id": "i7sZXWsveJBC"
      },
      "source": [
        "assert len(ones_2d(2, 3)) == 2 and len(ones_2d(2, 3)[0]) == 3 and sum([x_i for sl in ones_2d(3, 2) for x_i in sl]) == 6 , \"error en la funcion ones_2d\"\n",
        "print(\"La funcion es correcta\")"
      ],
      "execution_count": 2196,
      "outputs": [
        {
          "output_type": "stream",
          "name": "stdout",
          "text": [
            "La funcion es correcta\n"
          ]
        }
      ]
    },
    {
      "cell_type": "markdown",
      "metadata": {
        "id": "EwVykdiYzhBD"
      },
      "source": [
        "### Producto punto (inner)"
      ]
    },
    {
      "cell_type": "markdown",
      "metadata": {
        "id": "xy0p5QxEzhBE"
      },
      "source": [
        "Completa la función ones_2d que recibe como parametros dos listas a, b de la misma longitúd y retorna el producto punto de ambos.\n",
        "\n",
        "El producto punto está definido como:\n",
        "\n",
        "$$a = [a_1 a_2 ... a_n] \\: y \\: b = [b_1 b_2 ... b_n]$$\n",
        "\n",
        "$$\n",
        "a \\cdot b = a_1*b_1 + a_2*b_2 + \\dots + a_n*b_n\n",
        "$$"
      ]
    },
    {
      "cell_type": "code",
      "metadata": {
        "id": "OvNCcnXLBBc0"
      },
      "source": [
        "def inner(a, b):\n",
        "    if len(a) != len(b):\n",
        "        print('Las listas no son de la misma dimension')\n",
        "        return\n",
        "    \n",
        "    result = 0\n",
        "    index = 0\n",
        "\n",
        "    while index < len(a):\n",
        "        result += a[index] * b[index]\n",
        "\n",
        "        index += 1\n",
        "\n",
        "\n",
        "    return result"
      ],
      "execution_count": 2197,
      "outputs": []
    },
    {
      "cell_type": "code",
      "metadata": {
        "id": "-fDkDjKczhBE"
      },
      "source": [
        "assert inner([1, 2, 3], [1, 2 ,3]) == 14, \"Error en inner\"\n",
        "print(\"Correcto\")"
      ],
      "execution_count": 2198,
      "outputs": [
        {
          "output_type": "stream",
          "name": "stdout",
          "text": [
            "Correcto\n"
          ]
        }
      ]
    },
    {
      "cell_type": "markdown",
      "metadata": {
        "id": "6B7dwCC7eqnL"
      },
      "source": [
        "## Matrices con listas de listas"
      ]
    },
    {
      "cell_type": "markdown",
      "metadata": {
        "id": "l36RNkUqexzU"
      },
      "source": [
        "### Matriz identidad\n",
        "$$\n",
        "\tI_{ij} = \\begin{cases}\n",
        "\t\t1 & i=j\\\\\n",
        "\t\t0 & i \\neq j\\\\\n",
        "\t\\end{cases}\n",
        "$$"
      ]
    },
    {
      "cell_type": "code",
      "metadata": {
        "id": "afcnX6E_eqvP"
      },
      "source": [
        "def eye(n):\n",
        "    matrix = []\n",
        "\n",
        "    for index in range(n):\n",
        "        row = [0]*n\n",
        "        row[index] = 1\n",
        "        matrix.append(row)\n",
        "\n",
        "    print(matrix)\n",
        "\n",
        "    return matrix"
      ],
      "execution_count": 2199,
      "outputs": []
    },
    {
      "cell_type": "code",
      "metadata": {
        "id": "aGgCGhqrzhBF"
      },
      "source": [
        "assert eye(3) == [[1, 0, 0], [0, 1, 0], [0, 0, 1]], \"Error en eye\""
      ],
      "execution_count": 2200,
      "outputs": [
        {
          "output_type": "stream",
          "name": "stdout",
          "text": [
            "[[1, 0, 0], [0, 1, 0], [0, 0, 1]]\n"
          ]
        }
      ]
    },
    {
      "cell_type": "markdown",
      "metadata": {
        "id": "jLXu_k7CfCqF"
      },
      "source": [
        "### Matriz transpuesta\n",
        "\n",
        "$$C = A^T \\Leftrightarrow c_{ij} = a{ji}$$\n",
        "\n",
        "Por ejemplo, si:\n",
        "\t$$\n",
        "\tA = \\begin{bmatrix}\n",
        "\ta_{11} & a_{12}  \\\\\n",
        "\ta_{21} & a_{22}  \\\\\n",
        "\ta_{31} & a_{32}  \\\\\n",
        "\t\\end{bmatrix}\n",
        "\t$$\n",
        "\tentonces\n",
        "\t$$\n",
        "\tA^T = \\begin{bmatrix}\n",
        "\ta_{11} & a_{21} & a_{31} \\\\\n",
        "\ta_{12} & a_{22} & a_{32} \\\\\n",
        "\t\\end{bmatrix}\n",
        "\t$$"
      ]
    },
    {
      "cell_type": "code",
      "metadata": {
        "id": "zKWY09JhfEfa"
      },
      "source": [
        "def traspose(original_matrix):\n",
        "    matrix = [[1]*len(original_matrix)]*len(original_matrix[0])\n",
        "    final_matrix = []\n",
        "\n",
        "    for i in range(len(matrix)):\n",
        "        temp_matrix = []\n",
        "        for j in range(len(matrix[i])):\n",
        "            temp_matrix.append(original_matrix[j][i])\n",
        "            # matrix[i][j] = temp_matrix[j][i]\n",
        "\n",
        "        final_matrix.append(temp_matrix)\n",
        "\n",
        "    return final_matrix"
      ],
      "execution_count": 2201,
      "outputs": []
    },
    {
      "cell_type": "code",
      "metadata": {
        "id": "bl1lclWhzhBF"
      },
      "source": [
        "assert traspose([[1, 2], [3, 4], [5, 6]]) == [[1, 3, 5], [2, 4, 6]], \"Error en traspose\""
      ],
      "execution_count": 2202,
      "outputs": []
    },
    {
      "cell_type": "markdown",
      "metadata": {
        "id": "YnYXfNmizhBF"
      },
      "source": [
        "### Valida multiplicación\n",
        "\n",
        "```True``` si\n",
        "$$A \\qquad es \\qquad mxn$$\n",
        "y\n",
        "$$B \\qquad es \\qquad nxp$$\n",
        "```False``` en otro caso"
      ]
    },
    {
      "cell_type": "code",
      "metadata": {
        "id": "QS3a6v3CzhBG"
      },
      "source": [
        "def validate_mat_mul(A, B):\n",
        "    can_multiply = False\n",
        "\n",
        "    if not A or not B:\n",
        "        return False\n",
        "\n",
        "    nA = len(A)\n",
        "    m = len(A[0])\n",
        "\n",
        "    nB = len(B[0])\n",
        "    p = len(B)\n",
        "\n",
        "    if nA == nB:\n",
        "        can_multiply = True\n",
        "\n",
        "    return can_multiply"
      ],
      "execution_count": 2203,
      "outputs": []
    },
    {
      "cell_type": "code",
      "metadata": {
        "id": "5bhyeBnMzhBG"
      },
      "source": [
        "# print('Matriz false\\n')\n",
        "# print(validate_mat_mul([[1, 2, 3], [4, 5, 6], [7, 8, 9]], [[1, 2], [3, 4]]))\n",
        "# print('\\n')\n",
        "\n",
        "# print('Matriz true\\n')\n",
        "# print(validate_mat_mul([[1, 2], [3, 4]], [[5, 6], [7, 8]]))\n",
        "# print('\\n')\n",
        "\n",
        "# print('Matriz true\\n')\n",
        "# print(validate_mat_mul([[1, 2], [3, 4], [5, 6]], [[1, 2, 3], [4, 5, 6]]))\n",
        "# print('\\n')\n",
        "\n",
        "assert validate_mat_mul([[1, 2], [3, 4]], [[5, 6], [7, 8]]) and \\\n",
        "validate_mat_mul([[1, 2], [3, 4], [5, 6]], [[1, 2, 3], [4, 5, 6]]) and \\\n",
        "not validate_mat_mul([[1, 2, 3], [4, 5, 6], [7, 8, 9]], [[1, 2], [3, 4]]), \"Error en validate_mat_mul\"\n",
        "\n",
        "print('validate_mat_mul is correct')"
      ],
      "execution_count": 2204,
      "outputs": [
        {
          "output_type": "stream",
          "name": "stdout",
          "text": [
            "validate_mat_mul is correct\n"
          ]
        }
      ]
    },
    {
      "cell_type": "markdown",
      "metadata": {
        "id": "RY2TgoGye3pV"
      },
      "source": [
        "### Multiplicación de matrices\n",
        "\n",
        "Si $A \\in \\mathbb{R}^{m \\times n}$ y $B \\in \\mathbb{R}^{n \\times p}$ entonces:\n",
        "$$\n",
        "C = A B \\in \\mathbb{R}^{m \\times p}\\Leftrightarrow c_{ij} = \\sum_{k=1}^{n}a_{ik} b_{kj}\n",
        "$$"
      ]
    },
    {
      "cell_type": "code",
      "metadata": {
        "id": "DxFQFm51e-A1"
      },
      "source": [
        "def mat_mul(A, B):\n",
        "    result = [[0 for x in range(len(B[0]))] for y in range(len(A))]\n",
        "    \n",
        "    for i in range(len(A)): \n",
        "        for j in range(len(B[0])): \n",
        "            for k in range(len(B)): \n",
        "                result[i][j] += A[i][k] * B[k][j] \n",
        "    \n",
        "    print (result) \n",
        "\n",
        "    return result\n",
        "    "
      ],
      "execution_count": 2205,
      "outputs": []
    },
    {
      "cell_type": "code",
      "execution_count": null,
      "metadata": {},
      "outputs": [],
      "source": []
    },
    {
      "cell_type": "code",
      "metadata": {
        "id": "C_Z-q0k7zhBH"
      },
      "source": [
        "assert mat_mul([[1, 2], [3, 4], [5, 6]], [[2, 2], [2, 2]]) == [[6, 6], [14, 14], [22, 22]], \"Error en mat_mul\""
      ],
      "execution_count": 2206,
      "outputs": [
        {
          "output_type": "stream",
          "name": "stdout",
          "text": [
            "[[6, 6], [14, 14], [22, 22]]\n"
          ]
        }
      ]
    }
  ]
}