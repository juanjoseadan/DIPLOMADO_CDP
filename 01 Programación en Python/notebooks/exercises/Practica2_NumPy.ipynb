{
  "nbformat": 4,
  "nbformat_minor": 0,
  "metadata": {
    "colab": {
      "name": "Practica2_NumPy.ipynb",
      "provenance": [],
      "collapsed_sections": [],
      "include_colab_link": true
    },
    "kernelspec": {
      "name": "python3",
      "display_name": "Python 3.7.3 64-bit",
      "metadata": {
        "interpreter": {
          "hash": "20bf69066c0dd38d51965b69d5e1b6e387082e3198ba56e97997ac55f4e50ad0"
        }
      }
    },
    "language_info": {
      "codemirror_mode": {
        "name": "ipython",
        "version": 3
      },
      "file_extension": ".py",
      "mimetype": "text/x-python",
      "name": "python",
      "nbconvert_exporter": "python",
      "pygments_lexer": "ipython3",
      "version": "3.7.3-final"
    }
  },
  "cells": [
    {
      "cell_type": "markdown",
      "metadata": {
        "id": "view-in-github",
        "colab_type": "text"
      },
      "source": [
        "<a href=\"https://colab.research.google.com/github/jhermosillo/DIPLOMADO_CDP/blob/main/01%20Programaci%C3%B3n%20en%20Python/notebooks/exercises/Practica2_NumPy.ipynb\" target=\"_parent\"><img src=\"https://colab.research.google.com/assets/colab-badge.svg\" alt=\"Open In Colab\"/></a>"
      ]
    },
    {
      "cell_type": "markdown",
      "metadata": {
        "id": "gwuO_2qjhbcS"
      },
      "source": [
        "# Practica 2 - MNist con NumPy"
      ]
    },
    {
      "cell_type": "markdown",
      "metadata": {
        "id": "QToFwRDAOQll"
      },
      "source": [
        "## Usando Numpy con MNist\n",
        "\n",
        "MNist es un popular conjunto de datos que contiene imágenes de dígitos del 0-9 escritos a mano. Las imágenes en el conjunto están compuestas por 28x28 pixeles, cada pixel representa un tono en una escala de grises siendo 0 el valor más luminoso y 255 el valor más oscuro.\n",
        "\n",
        "Unos ejemplos de las imágenes en MNist:\n",
        "\n",
        "![alt text](https://upload.wikimedia.org/wikipedia/commons/2/27/MnistExamples.png)"
      ]
    },
    {
      "cell_type": "markdown",
      "metadata": {
        "id": "IKNPtF2Z_BgB"
      },
      "source": [
        "Ejecuta la siguiente celda para importar las librerías utilizadas durante la notebook."
      ]
    },
    {
      "cell_type": "code",
      "metadata": {
        "id": "M_YPfZtiMBZH"
      },
      "source": [
        "import numpy as np\n",
        "from matplotlib import pyplot as plt"
      ],
      "execution_count": 19,
      "outputs": []
    },
    {
      "cell_type": "markdown",
      "metadata": {
        "id": "AHYr9Bml-ovn"
      },
      "source": [
        "Una función auxiliar ```display_example``` para visualizar ejemplos en el conjunto de datos MNist.\n",
        "\n",
        "*Nota: No olvides ejecutar la celda*"
      ]
    },
    {
      "cell_type": "code",
      "metadata": {
        "id": "9SYL3xduRMnA"
      },
      "source": [
        "def display_example(x, example_width=None):\n",
        "    \"\"\"Muestra un ejemplo en forma 1D como una imagen\"\"\"\n",
        "    # Compute rows, cols\n",
        "    if x.ndim == 1:\n",
        "        n = x.size\n",
        "        m = 1\n",
        "        x = x[None]  # Promote to a 2 dimensional array\n",
        "    else:\n",
        "        raise IndexError('Input x should be 1 dimensional.')\n",
        "\n",
        "    example_width = example_width or int(np.round(np.sqrt(n)))\n",
        "    example_height = n // example_width\n",
        "\n",
        "    plt.imshow(x[0].reshape(example_height, example_width),\n",
        "                        cmap='Greys', extent=[0, 1, 0, 1])\n",
        "    plt.show()"
      ],
      "execution_count": 20,
      "outputs": []
    },
    {
      "cell_type": "markdown",
      "metadata": {
        "id": "GXfxMAENRUnG"
      },
      "source": [
        "## Cargando los datos usando Numpy\n",
        "\n",
        "Usarémos la función ```loadtxt``` para cargar una versión de MNist que está en nuestra máquina asignada por colab."
      ]
    },
    {
      "cell_type": "code",
      "metadata": {
        "id": "Vp4FZPSsL9Uo"
      },
      "source": [
        "MNist = np.loadtxt(\"sample_data/mnist_train_small.csv\", delimiter=',')\n",
        "MNist"
      ],
      "execution_count": 21,
      "outputs": [
        {
          "output_type": "error",
          "ename": "OSError",
          "evalue": "sample_data/mnist_train_small.csv not found.",
          "traceback": [
            "\u001b[0;31m---------------------------------------------------------------------------\u001b[0m",
            "\u001b[0;31mOSError\u001b[0m                                   Traceback (most recent call last)",
            "\u001b[0;32m<ipython-input-21-787eda2c1581>\u001b[0m in \u001b[0;36m<module>\u001b[0;34m\u001b[0m\n\u001b[0;32m----> 1\u001b[0;31m \u001b[0mMNist\u001b[0m \u001b[0;34m=\u001b[0m \u001b[0mnp\u001b[0m\u001b[0;34m.\u001b[0m\u001b[0mloadtxt\u001b[0m\u001b[0;34m(\u001b[0m\u001b[0;34m\"sample_data/mnist_train_small.csv\"\u001b[0m\u001b[0;34m,\u001b[0m \u001b[0mdelimiter\u001b[0m\u001b[0;34m=\u001b[0m\u001b[0;34m','\u001b[0m\u001b[0;34m)\u001b[0m\u001b[0;34m\u001b[0m\u001b[0;34m\u001b[0m\u001b[0m\n\u001b[0m\u001b[1;32m      2\u001b[0m \u001b[0mMNist\u001b[0m\u001b[0;34m\u001b[0m\u001b[0;34m\u001b[0m\u001b[0m\n",
            "\u001b[0;32m~/Library/Python/3.7/lib/python/site-packages/numpy/lib/npyio.py\u001b[0m in \u001b[0;36mloadtxt\u001b[0;34m(fname, dtype, comments, delimiter, converters, skiprows, usecols, unpack, ndmin, encoding, max_rows)\u001b[0m\n\u001b[1;32m    959\u001b[0m             \u001b[0mfname\u001b[0m \u001b[0;34m=\u001b[0m \u001b[0mos_fspath\u001b[0m\u001b[0;34m(\u001b[0m\u001b[0mfname\u001b[0m\u001b[0;34m)\u001b[0m\u001b[0;34m\u001b[0m\u001b[0;34m\u001b[0m\u001b[0m\n\u001b[1;32m    960\u001b[0m         \u001b[0;32mif\u001b[0m \u001b[0m_is_string_like\u001b[0m\u001b[0;34m(\u001b[0m\u001b[0mfname\u001b[0m\u001b[0;34m)\u001b[0m\u001b[0;34m:\u001b[0m\u001b[0;34m\u001b[0m\u001b[0;34m\u001b[0m\u001b[0m\n\u001b[0;32m--> 961\u001b[0;31m             \u001b[0mfh\u001b[0m \u001b[0;34m=\u001b[0m \u001b[0mnp\u001b[0m\u001b[0;34m.\u001b[0m\u001b[0mlib\u001b[0m\u001b[0;34m.\u001b[0m\u001b[0m_datasource\u001b[0m\u001b[0;34m.\u001b[0m\u001b[0mopen\u001b[0m\u001b[0;34m(\u001b[0m\u001b[0mfname\u001b[0m\u001b[0;34m,\u001b[0m \u001b[0;34m'rt'\u001b[0m\u001b[0;34m,\u001b[0m \u001b[0mencoding\u001b[0m\u001b[0;34m=\u001b[0m\u001b[0mencoding\u001b[0m\u001b[0;34m)\u001b[0m\u001b[0;34m\u001b[0m\u001b[0;34m\u001b[0m\u001b[0m\n\u001b[0m\u001b[1;32m    962\u001b[0m             \u001b[0mfencoding\u001b[0m \u001b[0;34m=\u001b[0m \u001b[0mgetattr\u001b[0m\u001b[0;34m(\u001b[0m\u001b[0mfh\u001b[0m\u001b[0;34m,\u001b[0m \u001b[0;34m'encoding'\u001b[0m\u001b[0;34m,\u001b[0m \u001b[0;34m'latin1'\u001b[0m\u001b[0;34m)\u001b[0m\u001b[0;34m\u001b[0m\u001b[0;34m\u001b[0m\u001b[0m\n\u001b[1;32m    963\u001b[0m             \u001b[0mfh\u001b[0m \u001b[0;34m=\u001b[0m \u001b[0miter\u001b[0m\u001b[0;34m(\u001b[0m\u001b[0mfh\u001b[0m\u001b[0;34m)\u001b[0m\u001b[0;34m\u001b[0m\u001b[0;34m\u001b[0m\u001b[0m\n",
            "\u001b[0;32m~/Library/Python/3.7/lib/python/site-packages/numpy/lib/_datasource.py\u001b[0m in \u001b[0;36mopen\u001b[0;34m(path, mode, destpath, encoding, newline)\u001b[0m\n\u001b[1;32m    193\u001b[0m \u001b[0;34m\u001b[0m\u001b[0m\n\u001b[1;32m    194\u001b[0m     \u001b[0mds\u001b[0m \u001b[0;34m=\u001b[0m \u001b[0mDataSource\u001b[0m\u001b[0;34m(\u001b[0m\u001b[0mdestpath\u001b[0m\u001b[0;34m)\u001b[0m\u001b[0;34m\u001b[0m\u001b[0;34m\u001b[0m\u001b[0m\n\u001b[0;32m--> 195\u001b[0;31m     \u001b[0;32mreturn\u001b[0m \u001b[0mds\u001b[0m\u001b[0;34m.\u001b[0m\u001b[0mopen\u001b[0m\u001b[0;34m(\u001b[0m\u001b[0mpath\u001b[0m\u001b[0;34m,\u001b[0m \u001b[0mmode\u001b[0m\u001b[0;34m,\u001b[0m \u001b[0mencoding\u001b[0m\u001b[0;34m=\u001b[0m\u001b[0mencoding\u001b[0m\u001b[0;34m,\u001b[0m \u001b[0mnewline\u001b[0m\u001b[0;34m=\u001b[0m\u001b[0mnewline\u001b[0m\u001b[0;34m)\u001b[0m\u001b[0;34m\u001b[0m\u001b[0;34m\u001b[0m\u001b[0m\n\u001b[0m\u001b[1;32m    196\u001b[0m \u001b[0;34m\u001b[0m\u001b[0m\n\u001b[1;32m    197\u001b[0m \u001b[0;34m\u001b[0m\u001b[0m\n",
            "\u001b[0;32m~/Library/Python/3.7/lib/python/site-packages/numpy/lib/_datasource.py\u001b[0m in \u001b[0;36mopen\u001b[0;34m(self, path, mode, encoding, newline)\u001b[0m\n\u001b[1;32m    533\u001b[0m                                       encoding=encoding, newline=newline)\n\u001b[1;32m    534\u001b[0m         \u001b[0;32melse\u001b[0m\u001b[0;34m:\u001b[0m\u001b[0;34m\u001b[0m\u001b[0;34m\u001b[0m\u001b[0m\n\u001b[0;32m--> 535\u001b[0;31m             \u001b[0;32mraise\u001b[0m \u001b[0mIOError\u001b[0m\u001b[0;34m(\u001b[0m\u001b[0;34m\"%s not found.\"\u001b[0m \u001b[0;34m%\u001b[0m \u001b[0mpath\u001b[0m\u001b[0;34m)\u001b[0m\u001b[0;34m\u001b[0m\u001b[0;34m\u001b[0m\u001b[0m\n\u001b[0m\u001b[1;32m    536\u001b[0m \u001b[0;34m\u001b[0m\u001b[0m\n\u001b[1;32m    537\u001b[0m \u001b[0;34m\u001b[0m\u001b[0m\n",
            "\u001b[0;31mOSError\u001b[0m: sample_data/mnist_train_small.csv not found."
          ]
        }
      ]
    },
    {
      "cell_type": "markdown",
      "metadata": {
        "id": "_6oj2tJs8a2c"
      },
      "source": [
        "El conjunto de datos MNist en Colab está formado por imágenes de ejemplo. Cada ejemplo en el conjunto es una fila en el arreglo de NumPy.\n",
        "\n",
        "Cada ejemplo (fila) es un arreglo con $785$ elementos, el primer elemento es la etiqueta del dígito (un entero de $0$ a $9$). El resto de los elementos ($784$) son los pixeles de la imágen ($28\\times28 = 784$)."
      ]
    },
    {
      "cell_type": "markdown",
      "metadata": {
        "id": "pjTayKkEWn2d"
      },
      "source": [
        "## ¿Cuántos ejemplos (filas) tenemos en el conjunto de datos?\n",
        "\n",
        "Utiliza NumPy para calcular el número de filas en el set de datos, rellena el código para guardar el valor en la variable ```m```."
      ]
    },
    {
      "cell_type": "code",
      "metadata": {
        "id": "fdgCOUGsW38Z"
      },
      "source": [
        "m = MNist.shape[0]\n",
        "print(\"El set de datos contiene \", m, \" ejemplos.\")"
      ],
      "execution_count": null,
      "outputs": []
    },
    {
      "cell_type": "markdown",
      "metadata": {
        "id": "2dPBaPSfUXbu"
      },
      "source": [
        "## Separando los datos.\n",
        "\n",
        "En la siguiente celda, deberás completar el código para separar el conjunto de datos en dos, un conjunto ```X``` que contendrá únicamente los pixeles de las imágenes y un conjunto ```y``` que contendrá las etiquetas asociadas al número que está en la imágen.\n",
        "\n",
        "Utiliza slicing con NumPy para seleccionar los elementos adecuados."
      ]
    },
    {
      "cell_type": "code",
      "metadata": {
        "id": "B-q6bwbmUtpA"
      },
      "source": [
        "X = MNist[:, 1:]\n",
        "y = MNist[:, 0]"
      ],
      "execution_count": 12,
      "outputs": [
        {
          "output_type": "error",
          "ename": "NameError",
          "evalue": "name 'MNist' is not defined",
          "traceback": [
            "\u001b[0;31m---------------------------------------------------------------------------\u001b[0m",
            "\u001b[0;31mNameError\u001b[0m                                 Traceback (most recent call last)",
            "\u001b[0;32m<ipython-input-12-362e05041d43>\u001b[0m in \u001b[0;36m<module>\u001b[0;34m\u001b[0m\n\u001b[0;32m----> 1\u001b[0;31m \u001b[0mX\u001b[0m \u001b[0;34m=\u001b[0m \u001b[0mMNist\u001b[0m\u001b[0;34m[\u001b[0m\u001b[0;34m:\u001b[0m\u001b[0;34m,\u001b[0m \u001b[0;36m1\u001b[0m\u001b[0;34m:\u001b[0m\u001b[0;34m]\u001b[0m\u001b[0;34m\u001b[0m\u001b[0;34m\u001b[0m\u001b[0m\n\u001b[0m\u001b[1;32m      2\u001b[0m \u001b[0my\u001b[0m \u001b[0;34m=\u001b[0m \u001b[0mMNist\u001b[0m\u001b[0;34m[\u001b[0m\u001b[0;34m:\u001b[0m\u001b[0;34m,\u001b[0m \u001b[0;36m0\u001b[0m\u001b[0;34m]\u001b[0m\u001b[0;34m\u001b[0m\u001b[0;34m\u001b[0m\u001b[0m\n",
            "\u001b[0;31mNameError\u001b[0m: name 'MNist' is not defined"
          ]
        }
      ]
    },
    {
      "cell_type": "markdown",
      "metadata": {
        "id": "44ZF3RSG_sar"
      },
      "source": [
        "Comprueba ejecutando la siguiente celda:"
      ]
    },
    {
      "cell_type": "code",
      "metadata": {
        "id": "AbPJnku-_akV"
      },
      "source": [
        "assert y.shape == (20000,) and X.shape == (20000, 784), \"Error en las dimensiones de X o y\"\n",
        "print(\"X.shape:\", X.shape)\n",
        "print(\"y.shape:\", y.shape)"
      ],
      "execution_count": null,
      "outputs": []
    },
    {
      "cell_type": "markdown",
      "metadata": {
        "id": "AjMIaWVIUDLq"
      },
      "source": [
        "## Visualizando las imágenes en el set de datos\n",
        "\n",
        "Usemos la función auxiliar display_example para visualizar los ejemplos en el set de datos. Intentar cambiar el valor de ```i``` para mostrar una ejemplo distinto."
      ]
    },
    {
      "cell_type": "code",
      "metadata": {
        "id": "J1M_emH_RTaX"
      },
      "source": [
        "#puedes cambiar el valor de i\n",
        "i = 25\n",
        "\n",
        "example = X[i]\n",
        "example_label = y[i]\n",
        "display_example(example)\n",
        "print(\"Imágen con etiqueta: \", example_label)"
      ],
      "execution_count": 18,
      "outputs": [
        {
          "output_type": "error",
          "ename": "NameError",
          "evalue": "name 'X' is not defined",
          "traceback": [
            "\u001b[0;31m---------------------------------------------------------------------------\u001b[0m",
            "\u001b[0;31mNameError\u001b[0m                                 Traceback (most recent call last)",
            "\u001b[0;32m<ipython-input-18-e7ee1ebb3c75>\u001b[0m in \u001b[0;36m<module>\u001b[0;34m\u001b[0m\n\u001b[1;32m      2\u001b[0m \u001b[0mi\u001b[0m \u001b[0;34m=\u001b[0m \u001b[0;36m25\u001b[0m\u001b[0;34m\u001b[0m\u001b[0;34m\u001b[0m\u001b[0m\n\u001b[1;32m      3\u001b[0m \u001b[0;34m\u001b[0m\u001b[0m\n\u001b[0;32m----> 4\u001b[0;31m \u001b[0mexample\u001b[0m \u001b[0;34m=\u001b[0m \u001b[0mX\u001b[0m\u001b[0;34m[\u001b[0m\u001b[0mi\u001b[0m\u001b[0;34m]\u001b[0m\u001b[0;34m\u001b[0m\u001b[0;34m\u001b[0m\u001b[0m\n\u001b[0m\u001b[1;32m      5\u001b[0m \u001b[0mexample_label\u001b[0m \u001b[0;34m=\u001b[0m \u001b[0my\u001b[0m\u001b[0;34m[\u001b[0m\u001b[0mi\u001b[0m\u001b[0;34m]\u001b[0m\u001b[0;34m\u001b[0m\u001b[0;34m\u001b[0m\u001b[0m\n\u001b[1;32m      6\u001b[0m \u001b[0mdisplay_example\u001b[0m\u001b[0;34m(\u001b[0m\u001b[0mexample\u001b[0m\u001b[0;34m)\u001b[0m\u001b[0;34m\u001b[0m\u001b[0;34m\u001b[0m\u001b[0m\n",
            "\u001b[0;31mNameError\u001b[0m: name 'X' is not defined"
          ]
        }
      ]
    },
    {
      "cell_type": "markdown",
      "metadata": {
        "id": "KncyFgv4apeS"
      },
      "source": [
        "## Contando el número de ejemplos para cada \"clase\"\n",
        "\n",
        "Rellena la función ```count_class_examples()``` para imprimir el número de ejemplos de cada etiqueta en el set de datos. Esto es, el número de ceros, de unos, dos, ..., nueves.\n",
        "\n",
        "Para MNist las etiquetas $y \\in \\{0, 1, 2, \\dots, 9\\}$"
      ]
    },
    {
      "cell_type": "code",
      "metadata": {
        "id": "5DXr5BVpMvy7"
      },
      "source": [
        "def count_class_examples(y):\n",
        "  \n",
        "  for i in range(10):\n",
        "    count = (y == i).sum()\n",
        "    print(\"Numero de \", i, count)"
      ],
      "execution_count": 9,
      "outputs": []
    },
    {
      "cell_type": "code",
      "metadata": {
        "id": "cetXv0aueKOe"
      },
      "source": [
        "count_class_examples(y)"
      ],
      "execution_count": 11,
      "outputs": [
        {
          "output_type": "error",
          "ename": "NameError",
          "evalue": "name 'y' is not defined",
          "traceback": [
            "\u001b[0;31m---------------------------------------------------------------------------\u001b[0m",
            "\u001b[0;31mNameError\u001b[0m                                 Traceback (most recent call last)",
            "\u001b[0;32m<ipython-input-11-e4fecd11b512>\u001b[0m in \u001b[0;36m<module>\u001b[0;34m\u001b[0m\n\u001b[0;32m----> 1\u001b[0;31m \u001b[0mcount_class_examples\u001b[0m\u001b[0;34m(\u001b[0m\u001b[0my\u001b[0m\u001b[0;34m)\u001b[0m\u001b[0;34m\u001b[0m\u001b[0;34m\u001b[0m\u001b[0m\n\u001b[0m",
            "\u001b[0;31mNameError\u001b[0m: name 'y' is not defined"
          ]
        }
      ]
    },
    {
      "cell_type": "markdown",
      "metadata": {
        "id": "F_bF-YXHfY8p"
      },
      "source": [
        "## Calcula el arreglo representativo para cada clase\n",
        "\n",
        "Utiliza Numpy para encontrar el arreglo representativo promediando los arreglos para cada clase. Rellena la función ``` class_means``` para que devuelva un arreglo de NumPy que contenga en cada fila el arreglo promedio de los respectivos ejemplos (del dígito 0 al 9)."
      ]
    },
    {
      "cell_type": "code",
      "metadata": {
        "id": "IMTD35bOFGg_"
      },
      "source": [
        "def class_means(X, y):\n",
        "  \"\"\"\n",
        "  Calcula el arreglo promedio (representativo) de cada clase\n",
        "  \"\"\"\n",
        "  # Numero de ejemplos (filas)\n",
        "  m = X.shape[0]\n",
        "  # Numero de features (columnas)\n",
        "  n = X.shape[1]\n",
        "  # Clases distintas en el set\n",
        "  ulabels = np.unique(y)\n",
        "  # Numero de clases\n",
        "  classes = ulabels.size\n",
        "\n",
        "  # Rellena means con el arreglo promedio de cada clase\n",
        "  means = np.empty((classes, n))\n",
        "\n",
        "  for i in range(classes):\n",
        "    means[i:] = X[y == ulabels[i]].mean(axis = 0)\n",
        "\n",
        "  return means"
      ],
      "execution_count": null,
      "outputs": []
    },
    {
      "cell_type": "code",
      "metadata": {
        "id": "Nupjyy3kBatD"
      },
      "source": [
        "class_representatives = class_means(X, y)\n",
        "\n",
        "#shape del arreglo que contiene los representativos\n",
        "class_representatives.shape"
      ],
      "execution_count": null,
      "outputs": []
    },
    {
      "cell_type": "code",
      "metadata": {
        "id": "bK4wRko_obDb"
      },
      "source": [
        "assert np.array_equal(class_means(np.array([[4, 6], [2, 4], [10, 4], [2, 6]]), np.array([1, 2, 1, 2])), np.array([[7, 5], [2, 5]])), \"Error\"\n",
        "assert class_representatives.shape == (10, 784), \"Error en las dimensiones de class_representatives\"\n",
        "print(\"Funcion clas_means es correcta\")"
      ],
      "execution_count": null,
      "outputs": []
    },
    {
      "cell_type": "markdown",
      "metadata": {
        "id": "qQjZYBzZFckR"
      },
      "source": [
        "Utiliza la función ```display_example``` para mostrar el ejemplo promedio de la clase (para cada clase)."
      ]
    },
    {
      "cell_type": "code",
      "metadata": {
        "id": "mcnZre4CBhIl"
      },
      "source": [
        "for i in range(10):\n",
        "  display_example(class_representatives[i])"
      ],
      "execution_count": null,
      "outputs": []
    },
    {
      "cell_type": "markdown",
      "metadata": {
        "id": "jaemlIYPEbIt"
      },
      "source": [
        "## Clasificador de dígitos usando distancias\n",
        "\n",
        "En esta sección, generaremos un modelo para identificar dígitos mediante el uso de distancias euclidianas. Calcularemos la distancia entre cada ejemplo en el conjunto y los dígitos representativos de cada clase (el valor promedio de cada clase). Le asignaremos a cada ejemplo la etiqueta del dígito representativo con menor distancia."
      ]
    },
    {
      "cell_type": "markdown",
      "metadata": {
        "id": "hCh7PfLgFDWx"
      },
      "source": [
        "### Distancia Euclidiana\n",
        "\n",
        "En la siguiente celda, rellena la función ```euclidean_distance``` para calcular la distancia euclidiana entre los puntos P y Q.\n",
        "\n",
        "La distancia euclidiana entre dos puntos P y Q en un espacio n-dimesional es:\n",
        "\n",
        "$$d_e(P, Q) = \\sqrt{(p_1 - q_1)^2+(p_2-q_2)^2 + \\dots+(p_n-q_n)^2} = \\sqrt{\\sum_{i=1}^{n}(p_i-q_i)^2} $$"
      ]
    },
    {
      "cell_type": "code",
      "metadata": {
        "id": "thU_Ff2AEWac"
      },
      "source": [
        "def euclidean_distance(P, Q):\n",
        "  e_distance = np.sqrt(np.sum(np.square(P-Q), axis = axis))\n",
        "  return e_distance"
      ],
      "execution_count": 3,
      "outputs": []
    },
    {
      "cell_type": "code",
      "metadata": {
        "id": "KQC1XSUEefxr"
      },
      "source": [
        "a = np.array([[1, 2, 3]])\n",
        "b = np.array([[3, 3, 5]])\n",
        "euclidean_distance(a, b)"
      ],
      "execution_count": 4,
      "outputs": [
        {
          "output_type": "error",
          "ename": "NameError",
          "evalue": "name 'np' is not defined",
          "traceback": [
            "\u001b[0;31m---------------------------------------------------------------------------\u001b[0m",
            "\u001b[0;31mNameError\u001b[0m                                 Traceback (most recent call last)",
            "\u001b[0;32m<ipython-input-4-626f8cf53efe>\u001b[0m in \u001b[0;36m<module>\u001b[0;34m\u001b[0m\n\u001b[0;32m----> 1\u001b[0;31m \u001b[0ma\u001b[0m \u001b[0;34m=\u001b[0m \u001b[0mnp\u001b[0m\u001b[0;34m.\u001b[0m\u001b[0marray\u001b[0m\u001b[0;34m(\u001b[0m\u001b[0;34m[\u001b[0m\u001b[0;34m[\u001b[0m\u001b[0;36m1\u001b[0m\u001b[0;34m,\u001b[0m \u001b[0;36m2\u001b[0m\u001b[0;34m,\u001b[0m \u001b[0;36m3\u001b[0m\u001b[0;34m]\u001b[0m\u001b[0;34m]\u001b[0m\u001b[0;34m)\u001b[0m\u001b[0;34m\u001b[0m\u001b[0;34m\u001b[0m\u001b[0m\n\u001b[0m\u001b[1;32m      2\u001b[0m \u001b[0mb\u001b[0m \u001b[0;34m=\u001b[0m \u001b[0mnp\u001b[0m\u001b[0;34m.\u001b[0m\u001b[0marray\u001b[0m\u001b[0;34m(\u001b[0m\u001b[0;34m[\u001b[0m\u001b[0;34m[\u001b[0m\u001b[0;36m3\u001b[0m\u001b[0;34m,\u001b[0m \u001b[0;36m3\u001b[0m\u001b[0;34m,\u001b[0m \u001b[0;36m5\u001b[0m\u001b[0;34m]\u001b[0m\u001b[0;34m]\u001b[0m\u001b[0;34m)\u001b[0m\u001b[0;34m\u001b[0m\u001b[0;34m\u001b[0m\u001b[0m\n\u001b[1;32m      3\u001b[0m \u001b[0meuclidean_distance\u001b[0m\u001b[0;34m(\u001b[0m\u001b[0ma\u001b[0m\u001b[0;34m,\u001b[0m \u001b[0mb\u001b[0m\u001b[0;34m)\u001b[0m\u001b[0;34m\u001b[0m\u001b[0;34m\u001b[0m\u001b[0m\n",
            "\u001b[0;31mNameError\u001b[0m: name 'np' is not defined"
          ]
        }
      ]
    },
    {
      "cell_type": "code",
      "metadata": {
        "id": "oqsvgC5HcprY"
      },
      "source": [
        "assert euclidean_distance(np.array([[1, 2, 3]]), np.array([[3, 3, 5]]))[0] == 3.0, \"Error en euclidean_distance\""
      ],
      "execution_count": 5,
      "outputs": [
        {
          "output_type": "error",
          "ename": "NameError",
          "evalue": "name 'np' is not defined",
          "traceback": [
            "\u001b[0;31m---------------------------------------------------------------------------\u001b[0m",
            "\u001b[0;31mNameError\u001b[0m                                 Traceback (most recent call last)",
            "\u001b[0;32m<ipython-input-5-b7594e7f1d32>\u001b[0m in \u001b[0;36m<module>\u001b[0;34m\u001b[0m\n\u001b[0;32m----> 1\u001b[0;31m \u001b[0;32massert\u001b[0m \u001b[0meuclidean_distance\u001b[0m\u001b[0;34m(\u001b[0m\u001b[0mnp\u001b[0m\u001b[0;34m.\u001b[0m\u001b[0marray\u001b[0m\u001b[0;34m(\u001b[0m\u001b[0;34m[\u001b[0m\u001b[0;34m[\u001b[0m\u001b[0;36m1\u001b[0m\u001b[0;34m,\u001b[0m \u001b[0;36m2\u001b[0m\u001b[0;34m,\u001b[0m \u001b[0;36m3\u001b[0m\u001b[0;34m]\u001b[0m\u001b[0;34m]\u001b[0m\u001b[0;34m)\u001b[0m\u001b[0;34m,\u001b[0m \u001b[0mnp\u001b[0m\u001b[0;34m.\u001b[0m\u001b[0marray\u001b[0m\u001b[0;34m(\u001b[0m\u001b[0;34m[\u001b[0m\u001b[0;34m[\u001b[0m\u001b[0;36m3\u001b[0m\u001b[0;34m,\u001b[0m \u001b[0;36m3\u001b[0m\u001b[0;34m,\u001b[0m \u001b[0;36m5\u001b[0m\u001b[0;34m]\u001b[0m\u001b[0;34m]\u001b[0m\u001b[0;34m)\u001b[0m\u001b[0;34m)\u001b[0m\u001b[0;34m[\u001b[0m\u001b[0;36m0\u001b[0m\u001b[0;34m]\u001b[0m \u001b[0;34m==\u001b[0m \u001b[0;36m3.0\u001b[0m\u001b[0;34m,\u001b[0m \u001b[0;34m\"Error en euclidean_distance\"\u001b[0m\u001b[0;34m\u001b[0m\u001b[0;34m\u001b[0m\u001b[0m\n\u001b[0m",
            "\u001b[0;31mNameError\u001b[0m: name 'np' is not defined"
          ]
        }
      ]
    },
    {
      "cell_type": "markdown",
      "metadata": {
        "id": "g_Z1b1-gBWiY"
      },
      "source": [
        "## Obten el representante más cercano para cada ejemplo\n",
        "\n",
        "Rellena la función ```closest_point``` para asignar a cada ejemplo la etiqueta del dígito más cercano según su distancia al arreglo representativo.\n",
        "\n",
        "*¿Puedes hacerlo con 2, 1 o ningún ciclo for?*"
      ]
    },
    {
      "cell_type": "code",
      "metadata": {
        "id": "xsxSqA2UjTBQ"
      },
      "source": [
        "def closest_point(X, representatives):\n",
        "  best = np.vectorize(lambda x: np.argmin(euclidean_distance(x, representatives, 1)), signature='(a)->()')(X)\n",
        "  return best"
      ],
      "execution_count": null,
      "outputs": []
    },
    {
      "cell_type": "code",
      "metadata": {
        "id": "EioV2HZmH1Z-"
      },
      "source": [
        "y_pred = closest_point(X, class_representatives)"
      ],
      "execution_count": null,
      "outputs": []
    },
    {
      "cell_type": "code",
      "metadata": {
        "id": "LAICdMHqH8tj"
      },
      "source": [
        "assert y_pred.shape == (20000,) or y_pred.shape == (20000), \"Error en las dimensiones de y_pred\""
      ],
      "execution_count": null,
      "outputs": []
    },
    {
      "cell_type": "markdown",
      "metadata": {
        "id": "zdSzZo8WHUxd"
      },
      "source": [
        "## Visualiza las predicciones"
      ]
    },
    {
      "cell_type": "code",
      "metadata": {
        "id": "0SsGlu2uHzFF"
      },
      "source": [
        "#intenta cambiar el valor de i\n",
        "i = 299\n",
        "# i = 25\n",
        "# i = 77\n",
        "# i = 144\n",
        "\n",
        "example = X[i]\n",
        "pred_label = y_pred[i]\n",
        "true_label = y[i]\n",
        "display_example(example)\n",
        "print(\"Imágen con etiqueta: \", true_label, \" modelo dice:\", pred_label)"
      ],
      "execution_count": null,
      "outputs": []
    },
    {
      "cell_type": "markdown",
      "metadata": {
        "id": "wx9HvySkHQWW"
      },
      "source": [
        "## Evaluando el clasificador\n",
        "\n",
        "Una vez que tienes un modelo, debes evaluarlo para saber que tan bien (o mal) está haciendo su trabajo. Para el modelo clasificador de dígitos, usaremos una métrica típica de evaluación."
      ]
    },
    {
      "cell_type": "markdown",
      "metadata": {
        "id": "qCLIrbVuItef"
      },
      "source": [
        "## Exactitúd (Accuracy)\n",
        "\n",
        "La exactitúd o accuracy mide el rendimiento general del modelo.\n",
        "\n",
        "Utiliza la siguiente fórmula para completar la función ```accuracy``` para medir el rendimiento del modelo de clasificación de dígitos:\n",
        "\n",
        "$$\\texttt{accuracy}(y, \\hat{y}) = \\frac{1}{m} \\sum_{i=0}^{m-1} 1(\\hat{y}_i = y_i)$$\n",
        "\n",
        "$$ 1(\\hat{y}_i = y_i) = 1 \\quad \\text{cuando} \\quad \\hat{y}_i = y_i$$\n",
        "\n",
        "$$ 1(\\hat{y}_i = y_i) = 0 \\quad \\text{cuando} \\quad \\hat{y}_i \\neq y_i$$\n",
        "\n",
        "$$m \\quad \\text{es el número de ejemplos}$$"
      ]
    },
    {
      "cell_type": "code",
      "metadata": {
        "id": "_MeQoOaYItol"
      },
      "source": [
        "#Practica\n",
        "def accuracy(y, y_pred):\n",
        "  return ((y == y_pred).sum()) / y.shape[0]"
      ],
      "execution_count": null,
      "outputs": []
    },
    {
      "cell_type": "code",
      "metadata": {
        "id": "f-aY9tZ0bh1H"
      },
      "source": [
        "accuracy(y, y_pred)"
      ],
      "execution_count": null,
      "outputs": []
    },
    {
      "cell_type": "markdown",
      "metadata": {
        "id": "ecFa1uuuJ_G-"
      },
      "source": [
        "¿Consideras que el modelo es bueno para predecir dígitos escritos a mano?, ¿crees que hay margen de mejora?"
      ]
    }
  ]
}